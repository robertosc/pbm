{
 "cells": [
  {
   "cell_type": "code",
   "execution_count": 14,
   "metadata": {},
   "outputs": [
    {
     "name": "stdout",
     "output_type": "stream",
     "text": [
      "<class 'dict'>\n",
      "¿Deseas guardar con un nombre específico? y/nn\n",
      "Se guardará bajo el nombre compuestos.yaml\n"
     ]
    }
   ],
   "source": [
    "import sys\n",
    "import yaml\n",
    "\n",
    "def find_neg_num(start, line):\n",
    "    #data = 0\n",
    "    #print(line, start)\n",
    "    for i in range(start+1, len(line)-1):\n",
    "        if(line[i] == \"-\"):\n",
    "            #print(line[i])\n",
    "            data = float(line[i:i+4])\n",
    "            break\n",
    "    return data\n",
    "    \n",
    "def extract_data(filename, no_params=1):\n",
    "    f = open(filename, 'r')\n",
    "    tag = -1 #Se define una etiqueta para \n",
    "    a = f.name.find(\"Amb\")\n",
    "    data = []\n",
    "    for i, line in enumerate(f):\n",
    "        y = line.find(\" 1 \")\n",
    "        #print(y)\n",
    "        if(y != -1):\n",
    "            tag = 1\n",
    "        #print(tag)\n",
    "        if(tag != -1 and tag <= no_params):\n",
    "            data.append(find_neg_num(y, line))\n",
    "            tag+=1\n",
    "    f.close()\n",
    "    #a = {f.name[a:-4]:[data1, data2]}\n",
    "    return f.name[a:-4], data\n",
    "\n",
    "def formato_yaml(comp_dict): #Se genera una función para pasar el diccionario a formato .yaml\n",
    "    op = str(input(\"¿Deseas guardar con un nombre específico? y/n\"))\n",
    "    if(op == \"n\"):\n",
    "        print(\"Se guardará bajo el nombre compuestos.yaml\")\n",
    "        filename = \"compuestos.yaml\"\n",
    "    else:\n",
    "        filename = str(input(\"Ingrese el nombre del archivo .yaml\"))\n",
    "        punto = filename.find(\".\") #Se busca un punto para evitar errores de nombre\n",
    "        if(punto != -1):\n",
    "            filename = filename[0:punto]+\".yaml\"\n",
    "            print(\"Nombre del archivo: %s\", filename)\n",
    "        else:\n",
    "            filename = filename+\".yaml\"\n",
    "            print(\"Nombre del archivo: %s\", filename)\n",
    "    file = open(filename, 'w')\n",
    "    #print(comp_dict)\n",
    "    yaml.dump(comp_dict, file)\n",
    "    file.close() \n",
    "        \n",
    "def multiples_archivos(argv):\n",
    "    for k in range(1, len(sys.argv)):\n",
    "        filename = sys.argv[k]\n",
    "        dictionary(filename, 4)\n",
    "\n",
    "def dictionary(filename, no_params):\n",
    "    compuestos = {}\n",
    "    a, b = extract_data(filename, 4)\n",
    "    for i in range(len(b)):\n",
    "        compuestos[a+\"_\"+str(i)] = b[0]\n",
    "    \n",
    "    return compuestos\n",
    "    #extract_data(\"/mnt/c/Users/rober/OneDrive/Documentos/UCREA/amb/Amb22830821.log\", 4)\n",
    "\n",
    "a = dictionary(\"/mnt/c/Users/rober/OneDrive/Documentos/UCREA/amb/Amb22830820.log\", 4)\n",
    "print(type(a))\n",
    "formato_yaml(a)"
   ]
  },
  {
   "cell_type": "code",
   "execution_count": null,
   "metadata": {},
   "outputs": [],
   "source": [
    "f = open(\"/mnt/c/Users/rober/OneDrive/Documentos/UCREA/amb/Amb22830820.log\", 'r')\n",
    "tag = -2 #Se define una etiqueta para \n",
    "a = f.name.find(\"Amb\")\n",
    "f.name[a:-4]\n",
    "no_params = 1\n",
    "for i,line in enumerate(f):\n",
    "    x= line.find(\" 1 \")\n",
    "    if(x != -1):\n",
    "        tag = i\n",
    "        for j in range(x+1, len(line)-1):\n",
    "            if(line[j] == \"-\"):\n",
    "                data1 = float(line[j:j+4])\n",
    "        print(data1)\n",
    "        #print(x, line)\n",
    "    if(i == (tag+1)):\n",
    "        y = line.find(\" 2 \")\n",
    "        for k in range(y+1, len(line)-1):\n",
    "            if(line[k] == \"-\"):\n",
    "                data2 = float(line[k:k+4])\n",
    "                print(data2)\n",
    "        #print(y, line)\n",
    "f.close()"
   ]
  },
  {
   "cell_type": "code",
   "execution_count": 39,
   "metadata": {},
   "outputs": [
    {
     "data": {
      "text/plain": [
       "'Amb22830820'"
      ]
     },
     "execution_count": 39,
     "metadata": {},
     "output_type": "execute_result"
    }
   ],
   "source": [
    "import sys\n",
    "\n",
    "def find_line(start, line):\n",
    "    #data = 0\n",
    "    #print(line, start)\n",
    "    for i in range(start+1, len(line)-1):\n",
    "        if(line[i] == \"-\"):\n",
    "            data = float(line[i:i+4])\n",
    "    return data\n",
    "    \n",
    "def extract_data(filename):\n",
    "    #print(type(filename))\n",
    "    f = open(filename, 'r')\n",
    "    tag = -2 #Se define una etiqueta para \n",
    "    a = f.name.find(\"Amb\") \n",
    "    \n",
    "    for i, line in enumerate(f):\n",
    "        x = line.find(\" 1 \")\n",
    "        if(x != -1):\n",
    "            tag = i\n",
    "            data1 = find_line(x, line)\n",
    "        #print(x, line)\n",
    "        if(i == (tag+1)):\n",
    "            y = line.find(\" 2 \")\n",
    "            data2 = find_line(y, line)\n",
    "        #print(y, line)\n",
    "    f.close()\n",
    "    #a = {f.name[a:-4]:[data1, data2]}\n",
    "    return f.name[a:-4], data1, data2\n",
    "    \n",
    "        \n",
    "def multiples_archivos(argv):\n",
    "    for k in range(1, len(sys.argv)):\n",
    "        filename = sys.argv[k]\n",
    "        print(extract_data(filename))\n",
    "\n",
    "def main(argv):\n",
    "    multiples_archivos(argv)\n",
    "    \n",
    "main(sys.argv)"
   ]
  }
 ],
 "metadata": {
  "kernelspec": {
   "display_name": "Python 3",
   "language": "python",
   "name": "python3"
  },
  "language_info": {
   "codemirror_mode": {
    "name": "ipython",
    "version": 3
   },
   "file_extension": ".py",
   "mimetype": "text/x-python",
   "name": "python",
   "nbconvert_exporter": "python",
   "pygments_lexer": "ipython3",
   "version": "3.8.2"
  }
 },
 "nbformat": 4,
 "nbformat_minor": 4
}
